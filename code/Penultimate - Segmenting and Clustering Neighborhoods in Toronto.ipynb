{
  "cells": [
    {
      "cell_type": "markdown",
      "metadata": {
        "colab_type": "text",
        "id": "view-in-github"
      },
      "source": [
        "<a href=\"https://colab.research.google.com/github/sarang-manohar/Coursera_Capstone/blob/main/Segmenting%20and%20Clustering%20Neighborhoods%20in%20Toronto.ipynb\" target=\"_parent\"><img src=\"https://colab.research.google.com/assets/colab-badge.svg\" alt=\"Open In Colab\"/></a>"
      ]
    },
    {
      "cell_type": "markdown",
      "metadata": {
        "id": "02e5360c"
      },
      "source": [
        "This notebook puts in the seed of the Capstone Project with Coursera!"
      ]
    },
    {
      "cell_type": "code",
      "execution_count": 1,
      "metadata": {
        "id": "9c583857"
      },
      "outputs": [
        {
          "name": "stdout",
          "output_type": "stream",
          "text": [
            "Libraries imported\n"
          ]
        }
      ],
      "source": [
        "import numpy as np\r\n",
        "import pandas as pd\r\n",
        "import requests\r\n",
        "from bs4 import BeautifulSoup\r\n",
        "import geocoder\r\n",
        "import folium\r\n",
        "from pandas.io.json import json_normalize\r\n",
        "print('Libraries imported')"
      ]
    },
    {
      "cell_type": "code",
      "execution_count": 2,
      "metadata": {
        "id": "d90019f7"
      },
      "outputs": [
        {
          "data": {
            "text/html": [
              "<div>\n",
              "<style scoped>\n",
              "    .dataframe tbody tr th:only-of-type {\n",
              "        vertical-align: middle;\n",
              "    }\n",
              "\n",
              "    .dataframe tbody tr th {\n",
              "        vertical-align: top;\n",
              "    }\n",
              "\n",
              "    .dataframe thead th {\n",
              "        text-align: right;\n",
              "    }\n",
              "</style>\n",
              "<table border=\"1\" class=\"dataframe\">\n",
              "  <thead>\n",
              "    <tr style=\"text-align: right;\">\n",
              "      <th></th>\n",
              "      <th>PostalCode</th>\n",
              "      <th>Borough</th>\n",
              "      <th>Neighborhood</th>\n",
              "      <th>Address</th>\n",
              "    </tr>\n",
              "  </thead>\n",
              "  <tbody>\n",
              "    <tr>\n",
              "      <th>0</th>\n",
              "      <td>M3A</td>\n",
              "      <td>North York</td>\n",
              "      <td>Parkwoods</td>\n",
              "      <td>North York, Toronto, Ontario, Canada, M3A</td>\n",
              "    </tr>\n",
              "    <tr>\n",
              "      <th>1</th>\n",
              "      <td>M4A</td>\n",
              "      <td>North York</td>\n",
              "      <td>Victoria Village</td>\n",
              "      <td>North York, Toronto, Ontario, Canada, M4A</td>\n",
              "    </tr>\n",
              "    <tr>\n",
              "      <th>2</th>\n",
              "      <td>M5A</td>\n",
              "      <td>Downtown Toronto</td>\n",
              "      <td>Regent Park, Harbourfront</td>\n",
              "      <td>Downtown Toronto, Toronto, Ontario, Canada, M5A</td>\n",
              "    </tr>\n",
              "    <tr>\n",
              "      <th>3</th>\n",
              "      <td>M6A</td>\n",
              "      <td>North York</td>\n",
              "      <td>Lawrence Manor, Lawrence Heights</td>\n",
              "      <td>North York, Toronto, Ontario, Canada, M6A</td>\n",
              "    </tr>\n",
              "    <tr>\n",
              "      <th>4</th>\n",
              "      <td>M7A</td>\n",
              "      <td>Queen's Park</td>\n",
              "      <td>Ontario Provincial Government</td>\n",
              "      <td>Queen's Park, Toronto, Ontario, Canada, M7A</td>\n",
              "    </tr>\n",
              "  </tbody>\n",
              "</table>\n",
              "</div>"
            ],
            "text/plain": [
              "  PostalCode           Borough                      Neighborhood  \\\n",
              "0        M3A        North York                         Parkwoods   \n",
              "1        M4A        North York                  Victoria Village   \n",
              "2        M5A  Downtown Toronto         Regent Park, Harbourfront   \n",
              "3        M6A        North York  Lawrence Manor, Lawrence Heights   \n",
              "4        M7A      Queen's Park     Ontario Provincial Government   \n",
              "\n",
              "                                           Address  \n",
              "0        North York, Toronto, Ontario, Canada, M3A  \n",
              "1        North York, Toronto, Ontario, Canada, M4A  \n",
              "2  Downtown Toronto, Toronto, Ontario, Canada, M5A  \n",
              "3        North York, Toronto, Ontario, Canada, M6A  \n",
              "4      Queen's Park, Toronto, Ontario, Canada, M7A  "
            ]
          },
          "execution_count": 2,
          "metadata": {},
          "output_type": "execute_result"
        }
      ],
      "source": [
        "html_data = requests.get('https://en.wikipedia.org/wiki/List_of_postal_codes_of_Canada:_M')\r\n",
        "\r\n",
        "soup = BeautifulSoup(html_data.text, 'html.parser')\r\n",
        "table = soup.find(\"table\",{\"rules\":\"all\"})\r\n",
        "\r\n",
        "table_data = []\r\n",
        "\r\n",
        "for row in table.find_all('td'):\r\n",
        "    cell = {}\r\n",
        "    if row.span.text=='Not assigned':\r\n",
        "        pass\r\n",
        "    else:\r\n",
        "        cell['PostalCode'] = row.p.text[:3]\r\n",
        "        cell['Borough'] = (row.span.text).split('(')[0]\r\n",
        "        cell['Neighborhood'] = (((((row.span.text).split('(')[1]).strip(')')).replace(' /',',')).replace(')',' ')).strip(' ')\r\n",
        "        table_data.append(cell)\r\n",
        "\r\n",
        "df=pd.DataFrame(table_data)\r\n",
        "df['Borough']=df['Borough'].replace({'Downtown TorontoStn A PO Boxes25 The Esplanade':'Downtown Toronto Stn A',\r\n",
        "                                             'East TorontoBusiness reply mail Processing Centre969 Eastern':'East Toronto Business',\r\n",
        "                                             'EtobicokeNorthwest':'Etobicoke Northwest','East YorkEast Toronto':'East York/East Toronto',\r\n",
        "                                             'MississaugaCanada Post Gateway Processing Centre':'Mississauga'})\r\n",
        "df['Address'] = df['Borough']+', Toronto, Ontario, Canada, '+df['PostalCode']\r\n",
        "df.head()"
      ]
    },
    {
      "cell_type": "code",
      "execution_count": 3,
      "metadata": {},
      "outputs": [
        {
          "data": {
            "text/html": [
              "<div>\n",
              "<style scoped>\n",
              "    .dataframe tbody tr th:only-of-type {\n",
              "        vertical-align: middle;\n",
              "    }\n",
              "\n",
              "    .dataframe tbody tr th {\n",
              "        vertical-align: top;\n",
              "    }\n",
              "\n",
              "    .dataframe thead th {\n",
              "        text-align: right;\n",
              "    }\n",
              "</style>\n",
              "<table border=\"1\" class=\"dataframe\">\n",
              "  <thead>\n",
              "    <tr style=\"text-align: right;\">\n",
              "      <th></th>\n",
              "      <th>PostalCode</th>\n",
              "      <th>Borough</th>\n",
              "      <th>Neighborhood</th>\n",
              "      <th>Address</th>\n",
              "      <th>Latitude</th>\n",
              "      <th>Longitude</th>\n",
              "    </tr>\n",
              "  </thead>\n",
              "  <tbody>\n",
              "    <tr>\n",
              "      <th>0</th>\n",
              "      <td>M3A</td>\n",
              "      <td>North York</td>\n",
              "      <td>Parkwoods</td>\n",
              "      <td>North York, Toronto, Ontario, Canada, M3A</td>\n",
              "      <td>43.75245</td>\n",
              "      <td>-79.32991</td>\n",
              "    </tr>\n",
              "    <tr>\n",
              "      <th>1</th>\n",
              "      <td>M4A</td>\n",
              "      <td>North York</td>\n",
              "      <td>Victoria Village</td>\n",
              "      <td>North York, Toronto, Ontario, Canada, M4A</td>\n",
              "      <td>43.73057</td>\n",
              "      <td>-79.31306</td>\n",
              "    </tr>\n",
              "    <tr>\n",
              "      <th>2</th>\n",
              "      <td>M5A</td>\n",
              "      <td>Downtown Toronto</td>\n",
              "      <td>Regent Park, Harbourfront</td>\n",
              "      <td>Downtown Toronto, Toronto, Ontario, Canada, M5A</td>\n",
              "      <td>43.65512</td>\n",
              "      <td>-79.36264</td>\n",
              "    </tr>\n",
              "    <tr>\n",
              "      <th>3</th>\n",
              "      <td>M6A</td>\n",
              "      <td>North York</td>\n",
              "      <td>Lawrence Manor, Lawrence Heights</td>\n",
              "      <td>North York, Toronto, Ontario, Canada, M6A</td>\n",
              "      <td>43.72327</td>\n",
              "      <td>-79.45042</td>\n",
              "    </tr>\n",
              "    <tr>\n",
              "      <th>4</th>\n",
              "      <td>M7A</td>\n",
              "      <td>Queen's Park</td>\n",
              "      <td>Ontario Provincial Government</td>\n",
              "      <td>Queen's Park, Toronto, Ontario, Canada, M7A</td>\n",
              "      <td>43.66253</td>\n",
              "      <td>-79.39188</td>\n",
              "    </tr>\n",
              "  </tbody>\n",
              "</table>\n",
              "</div>"
            ],
            "text/plain": [
              "  PostalCode           Borough                      Neighborhood  \\\n",
              "0        M3A        North York                         Parkwoods   \n",
              "1        M4A        North York                  Victoria Village   \n",
              "2        M5A  Downtown Toronto         Regent Park, Harbourfront   \n",
              "3        M6A        North York  Lawrence Manor, Lawrence Heights   \n",
              "4        M7A      Queen's Park     Ontario Provincial Government   \n",
              "\n",
              "                                           Address  Latitude  Longitude  \n",
              "0        North York, Toronto, Ontario, Canada, M3A  43.75245  -79.32991  \n",
              "1        North York, Toronto, Ontario, Canada, M4A  43.73057  -79.31306  \n",
              "2  Downtown Toronto, Toronto, Ontario, Canada, M5A  43.65512  -79.36264  \n",
              "3        North York, Toronto, Ontario, Canada, M6A  43.72327  -79.45042  \n",
              "4      Queen's Park, Toronto, Ontario, Canada, M7A  43.66253  -79.39188  "
            ]
          },
          "execution_count": 3,
          "metadata": {},
          "output_type": "execute_result"
        }
      ],
      "source": [
        "lat=[]\r\n",
        "long=[]\r\n",
        "for i, pc in enumerate(df['PostalCode']):\r\n",
        "    with requests.Session() as session:\r\n",
        "        g = geocoder.arcgis('{}, Toronto, Canada'.format(pc),session=session)\r\n",
        "    lat.append(g.latlng[0])\r\n",
        "    long.append(g.latlng[1])\r\n",
        "\r\n",
        "df['Latitude'] = lat\r\n",
        "df['Longitude'] = long\r\n",
        "\r\n",
        "df.head()"
      ]
    }
  ],
  "metadata": {
    "colab": {
      "include_colab_link": true,
      "name": "Coursera_Capstone001.ipynb",
      "provenance": []
    },
    "interpreter": {
      "hash": "e6d57a11395bfad2acecd537d627437145e822dd4efdea80832e0adb16398436"
    },
    "kernelspec": {
      "display_name": "Python 3.8.10 64-bit ('base': conda)",
      "name": "python3"
    },
    "language_info": {
      "name": "python",
      "version": ""
    }
  },
  "nbformat": 4,
  "nbformat_minor": 5
}