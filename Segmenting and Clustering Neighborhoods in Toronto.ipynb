{
  "nbformat": 4,
  "nbformat_minor": 5,
  "metadata": {
    "kernelspec": {
      "display_name": "Python 3",
      "language": "python",
      "name": "python3"
    },
    "language_info": {
      "codemirror_mode": {
        "name": "ipython",
        "version": 3
      },
      "file_extension": ".py",
      "mimetype": "text/x-python",
      "name": "python",
      "nbconvert_exporter": "python",
      "pygments_lexer": "ipython3",
      "version": "3.8.10"
    },
    "colab": {
      "name": "Coursera_Capstone001.ipynb",
      "provenance": [],
      "include_colab_link": true
    }
  },
  "cells": [
    {
      "cell_type": "markdown",
      "metadata": {
        "id": "view-in-github",
        "colab_type": "text"
      },
      "source": [
        "<a href=\"https://colab.research.google.com/github/sarang-manohar/Coursera_Capstone/blob/main/Segmenting%20and%20Clustering%20Neighborhoods%20in%20Toronto.ipynb\" target=\"_parent\"><img src=\"https://colab.research.google.com/assets/colab-badge.svg\" alt=\"Open In Colab\"/></a>"
      ]
    },
    {
      "cell_type": "markdown",
      "metadata": {
        "id": "02e5360c"
      },
      "source": [
        "This notebook puts in the seed of the Capstone Project with Coursera!"
      ],
      "id": "02e5360c"
    },
    {
      "cell_type": "code",
      "metadata": {
        "id": "9c583857"
      },
      "source": [
        "import numpy as np\n",
        "import pandas as pd"
      ],
      "id": "9c583857",
      "execution_count": null,
      "outputs": []
    },
    {
      "cell_type": "code",
      "metadata": {
        "id": "d90019f7",
        "outputId": "eb3e48ec-b1ff-4e2f-9e6d-b6923ad3ee54"
      },
      "source": [
        "print('Hello Capstone Project Course!')"
      ],
      "id": "d90019f7",
      "execution_count": null,
      "outputs": [
        {
          "output_type": "stream",
          "text": [
            "Hello Capstone Project Course!\n"
          ],
          "name": "stdout"
        }
      ]
    },
    {
      "cell_type": "code",
      "metadata": {
        "id": "5df8a5d0"
      },
      "source": [
        ""
      ],
      "id": "5df8a5d0",
      "execution_count": null,
      "outputs": []
    }
  ]
}